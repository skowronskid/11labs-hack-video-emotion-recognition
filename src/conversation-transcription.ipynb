{
 "cells": [
  {
   "cell_type": "code",
   "execution_count": 51,
   "metadata": {},
   "outputs": [],
   "source": [
    "\n",
    "import yaml\n",
    "from supabase import create_client\n",
    "from elevenlabs import ElevenLabs\n",
    "import pandas as pd\n",
    "\n",
    "URL = 'https://coltpedcrfibsozxvgvu.supabase.co'\n",
    "BUCKET_ID = 'transcription'\n",
    "with open(\"../env.yaml\") as stream:\n",
    "    KEYS = yaml.safe_load(stream)\n",
    "    SUPABASE_API_KEY = KEYS[\"SUPABASE_API_KEY\"]\n",
    "    ELEVENLABS_API_KEY = KEYS[\"ELEVENLABS_API_KEY\"]\n",
    "    \n",
    "supabase = create_client(URL, SUPABASE_API_KEY)    \n",
    "\n",
    "client = ElevenLabs(\n",
    "    api_key=ELEVENLABS_API_KEY\n",
    ")\n",
    "\n",
    "CONVERSATION_ID = \"YzI93GFnFsCOo924uKlo\"\n"
   ]
  },
  {
   "cell_type": "code",
   "execution_count": null,
   "metadata": {},
   "outputs": [],
   "source": []
  },
  {
   "cell_type": "code",
   "execution_count": 9,
   "metadata": {},
   "outputs": [],
   "source": [
    "conversation = client.conversational_ai.get_conversation(\n",
    "    conversation_id=CONVERSATION_ID\n",
    ")\n"
   ]
  },
  {
   "cell_type": "code",
   "execution_count": 15,
   "metadata": {},
   "outputs": [
    {
     "data": {
      "text/plain": [
       "'2CWlVlqCNatM9QFfyuIN'"
      ]
     },
     "execution_count": 15,
     "metadata": {},
     "output_type": "execute_result"
    }
   ],
   "source": [
    "conversation.dict()['agent_id']"
   ]
  },
  {
   "cell_type": "code",
   "execution_count": 38,
   "metadata": {},
   "outputs": [],
   "source": [
    "transcript = pd.DataFrame(conversation.dict()[\"transcript\"])[[\"role\",\"message\",\"time_in_call_secs\"]]"
   ]
  },
  {
   "cell_type": "code",
   "execution_count": 39,
   "metadata": {},
   "outputs": [
    {
     "data": {
      "text/html": [
       "<div>\n",
       "<style scoped>\n",
       "    .dataframe tbody tr th:only-of-type {\n",
       "        vertical-align: middle;\n",
       "    }\n",
       "\n",
       "    .dataframe tbody tr th {\n",
       "        vertical-align: top;\n",
       "    }\n",
       "\n",
       "    .dataframe thead th {\n",
       "        text-align: right;\n",
       "    }\n",
       "</style>\n",
       "<table border=\"1\" class=\"dataframe\">\n",
       "  <thead>\n",
       "    <tr style=\"text-align: right;\">\n",
       "      <th></th>\n",
       "      <th>role</th>\n",
       "      <th>message</th>\n",
       "      <th>time_in_call_secs</th>\n",
       "    </tr>\n",
       "  </thead>\n",
       "  <tbody>\n",
       "    <tr>\n",
       "      <th>0</th>\n",
       "      <td>agent</td>\n",
       "      <td>Hi Jacob, are you ready to start where you wil...</td>\n",
       "      <td>0</td>\n",
       "    </tr>\n",
       "    <tr>\n",
       "      <th>1</th>\n",
       "      <td>user</td>\n",
       "      <td>I don't know. You think I'm ready?</td>\n",
       "      <td>5</td>\n",
       "    </tr>\n",
       "    <tr>\n",
       "      <th>2</th>\n",
       "      <td>agent</td>\n",
       "      <td>It's all about how you feel. If you're comfort...</td>\n",
       "      <td>7</td>\n",
       "    </tr>\n",
       "    <tr>\n",
       "      <th>3</th>\n",
       "      <td>user</td>\n",
       "      <td>Let's fucking go.</td>\n",
       "      <td>16</td>\n",
       "    </tr>\n",
       "    <tr>\n",
       "      <th>4</th>\n",
       "      <td>agent</td>\n",
       "      <td>Great energy! Just let me know when you're rea...</td>\n",
       "      <td>18</td>\n",
       "    </tr>\n",
       "    <tr>\n",
       "      <th>5</th>\n",
       "      <td>user</td>\n",
       "      <td>I'm ready.</td>\n",
       "      <td>22</td>\n",
       "    </tr>\n",
       "    <tr>\n",
       "      <th>6</th>\n",
       "      <td>agent</td>\n",
       "      <td>Perfect! Please go ahead with your line when y...</td>\n",
       "      <td>24</td>\n",
       "    </tr>\n",
       "    <tr>\n",
       "      <th>7</th>\n",
       "      <td>user</td>\n",
       "      <td>You fought in the Clone Wars?</td>\n",
       "      <td>28</td>\n",
       "    </tr>\n",
       "    <tr>\n",
       "      <th>8</th>\n",
       "      <td>agent</td>\n",
       "      <td>Yes, I was once a Jedi Knight the same as your...</td>\n",
       "      <td>31</td>\n",
       "    </tr>\n",
       "    <tr>\n",
       "      <th>9</th>\n",
       "      <td>user</td>\n",
       "      <td>I wish I'd known him.</td>\n",
       "      <td>36</td>\n",
       "    </tr>\n",
       "    <tr>\n",
       "      <th>10</th>\n",
       "      <td>agent</td>\n",
       "      <td>He was the best star-pilot in the galaxy, and ...</td>\n",
       "      <td>38</td>\n",
       "    </tr>\n",
       "  </tbody>\n",
       "</table>\n",
       "</div>"
      ],
      "text/plain": [
       "     role                                            message  \\\n",
       "0   agent  Hi Jacob, are you ready to start where you wil...   \n",
       "1    user                 I don't know. You think I'm ready?   \n",
       "2   agent  It's all about how you feel. If you're comfort...   \n",
       "3    user                                  Let's fucking go.   \n",
       "4   agent  Great energy! Just let me know when you're rea...   \n",
       "5    user                                         I'm ready.   \n",
       "6   agent  Perfect! Please go ahead with your line when y...   \n",
       "7    user                      You fought in the Clone Wars?   \n",
       "8   agent  Yes, I was once a Jedi Knight the same as your...   \n",
       "9    user                              I wish I'd known him.   \n",
       "10  agent  He was the best star-pilot in the galaxy, and ...   \n",
       "\n",
       "    time_in_call_secs  \n",
       "0                   0  \n",
       "1                   5  \n",
       "2                   7  \n",
       "3                  16  \n",
       "4                  18  \n",
       "5                  22  \n",
       "6                  24  \n",
       "7                  28  \n",
       "8                  31  \n",
       "9                  36  \n",
       "10                 38  "
      ]
     },
     "execution_count": 39,
     "metadata": {},
     "output_type": "execute_result"
    }
   ],
   "source": [
    "transcript"
   ]
  },
  {
   "cell_type": "code",
   "execution_count": null,
   "metadata": {},
   "outputs": [],
   "source": [
    "dynamic_variables = conversation.dict()['conversation_initiation_client_data']['dynamic_variables']\n",
    "\n",
    "MOVIE_TITLE = dynamic_variables[\"movie_title\"]\n",
    "MOVIE_GENRE = dynamic_variables[\"movie_genre\"]\n",
    "SETTING = dynamic_variables[\"scene_setting\"]\n",
    "SCENE_CONTEXT = dynamic_variables[\"scene_context\"]\n",
    "CHARACTERS = dynamic_variables[\"characters\"]\n",
    "SCENE_DESCRIPTION = dynamic_variables[\"scene_description\"]\n",
    "ADDITIONONAL_INFO = dynamic_variables[\"additional_info\"]\n",
    "\n",
    "USER_NAME = dynamic_variables[\"user_name\"]\n",
    "SCREENPLAY_TEXT = dynamic_variables[\"screenplay_text\"]\n",
    "\n",
    "USER_ROLE = dynamic_variables[\"user_role\"]\n",
    "AGENT_ROLE = dynamic_variables[\"agent_role\"]"
   ]
  },
  {
   "cell_type": "code",
   "execution_count": null,
   "metadata": {},
   "outputs": [],
   "source": [
    "import io\n",
    "import json"
   ]
  },
  {
   "cell_type": "code",
   "execution_count": null,
   "metadata": {},
   "outputs": [],
   "source": [
    "response = (\n",
    "    supabase\n",
    "    .storage\n",
    "    .from_(BUCKET_ID)\n",
    "    .upload(\n",
    "        f\"{CONVERSATION_ID}.json\",\n",
    "        io.BytesIO(json.dumps(conversation.dict()).encode(\"utf-8\")).read()\n",
    "    )\n",
    ")"
   ]
  }
 ],
 "metadata": {
  "kernelspec": {
   "display_name": "base",
   "language": "python",
   "name": "python3"
  },
  "language_info": {
   "codemirror_mode": {
    "name": "ipython",
    "version": 3
   },
   "file_extension": ".py",
   "mimetype": "text/x-python",
   "name": "python",
   "nbconvert_exporter": "python",
   "pygments_lexer": "ipython3",
   "version": "3.12.2"
  }
 },
 "nbformat": 4,
 "nbformat_minor": 2
}
