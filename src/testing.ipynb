{
 "cells": [
  {
   "cell_type": "code",
   "execution_count": 2,
   "metadata": {},
   "outputs": [],
   "source": [
    "import requests\n",
    "import yaml\n",
    "\n",
    "with open(\"../env.yaml\") as stream:\n",
    "    API_KEYS = yaml.safe_load(stream)\n",
    "\n",
    "\n",
    "CALLBACK_URL = \"https://silly-doctor-72.webhook.cool\" \n",
    "URL_PREFIX = \"https://api.imentiv.ai/v1/videos\"\n"
   ]
  },
  {
   "cell_type": "code",
   "execution_count": 26,
   "metadata": {},
   "outputs": [
    {
     "name": "stdout",
     "output_type": "stream",
     "text": [
      "200 :  {'id': 'c7eaccee-dd53-49b5-99d2-7d9d33a8f14b', 'status': 'processing', 'title': 'test3'}\n"
     ]
    }
   ],
   "source": [
    "# UPLOADING A VIDEO\n",
    "headers = {\n",
    "    \"accept\": \"application/json\",\n",
    "    \"X-API-Key\": API_KEYS[\"IMENTIV_API_KEY\"]\n",
    "}\n",
    "\n",
    "data = {\n",
    "    \"title\": \"test3\",\n",
    "    \"description\": \"test3\",\n",
    "    \"video_url\": \"\",\n",
    "    \"start_millis\": \"\",\n",
    "    \"end_millis\": \"\",\n",
    "    \"callback_url\": \"\"\n",
    "}\n",
    "\n",
    "files = {\n",
    "    \"video\": (\"WIN_20250222_15_37_05_Pro.mp4\", open(\"../WIN_20250222_15_37_05_Pro.mp4\", \"rb\"), \"video/mp4\")\n",
    "}\n",
    "\n",
    "response = requests.post(URL_PREFIX, headers=headers, data=data, files=files)\n",
    "\n",
    "print(response.status_code, \": \", response.json())\n",
    "video_id = response.json()[\"id\"]"
   ]
  },
  {
   "cell_type": "code",
   "execution_count": null,
   "metadata": {},
   "outputs": [
    {
     "name": "stdout",
     "output_type": "stream",
     "text": [
      "400 :  {'detail': 'Duration information is missing'}\n"
     ]
    }
   ],
   "source": [
    "# GENERATE PERSONALITY REPORT\n",
    "url = f\"{URL_PREFIX}/{video_id}/personality/request\"\n",
    "\n",
    "headers = {\n",
    "    \"accept\": \"application/json\",\n",
    "    \"X-API-Key\": API_KEYS[\"IMENTIV_API_KEY\"],\n",
    "    \"Content-Type\": \"application/x-www-form-urlencoded\"\n",
    "}\n",
    "data = {\n",
    "    \"callback_url\": CALLBACK_URL\n",
    "}\n",
    "\n",
    "response = requests.post(url, headers=headers, data=data)\n",
    "\n",
    "print(response.status_code, \": \", response.json())"
   ]
  },
  {
   "cell_type": "code",
   "execution_count": 30,
   "metadata": {},
   "outputs": [],
   "source": [
    "video_id = \"e8a7897c-05dc-4806-a100-9fe1706fa170\""
   ]
  },
  {
   "cell_type": "code",
   "execution_count": 31,
   "metadata": {},
   "outputs": [
    {
     "name": "stdout",
     "output_type": "stream",
     "text": [
      "200 :  {'id': 'e8a7897c-05dc-4806-a100-9fe1706fa170', 'status': 'completed', 'personality_data': {'Extraversion': 0.3702271282672882, 'Neuroticism': 0.392626017332077, 'Agreeableness': 0.45439374446868896, 'Conscientiousness': 0.4191223382949829, 'Openness': 0.45642098784446716}}\n"
     ]
    }
   ],
   "source": [
    "# GET PERSONALITY REPORT\n",
    "url = f\"{URL_PREFIX}/{video_id}/personality/\"\n",
    "\n",
    "# Headers\n",
    "headers = {\n",
    "    \"accept\": \"application/json\",\n",
    "    \"X-API-Key\": API_KEYS[\"IMENTIV_API_KEY\"],\n",
    "}\n",
    "response = requests.get(url, headers=headers)\n",
    "print(response.status_code, \": \", response.json())"
   ]
  },
  {
   "cell_type": "code",
   "execution_count": null,
   "metadata": {},
   "outputs": [],
   "source": [
    "with open(\"personality_report.json\", \"w\") as f:\n",
    "    f.write(response.text)"
   ]
  },
  {
   "cell_type": "code",
   "execution_count": null,
   "metadata": {},
   "outputs": [
    {
     "name": "stdout",
     "output_type": "stream",
     "text": [
      "200 :  {'id': 'e8a7897c-05dc-4806-a100-9fe1706fa170', 'message': 'Video emotion analysis report initiated.', 'status': 'processing'}\n"
     ]
    }
   ],
   "source": [
    "# GENERATE REPORT FILE\n",
    "url = f\"{URL_PREFIX}/{video_id}/report/\"\n",
    "\n",
    "headers = {\n",
    "    \"accept\": \"application/json\",\n",
    "    \"X-API-Key\": API_KEYS[\"IMENTIV_API_KEY\"],\n",
    "    \"Content-Type\": \"application/x-www-form-urlencoded\"\n",
    "}\n",
    "\n",
    "data = {\n",
    "    \"callback_url\": CALLBACK_URL\n",
    "}\n",
    "\n",
    "response = requests.post(url, headers=headers, data=data)\n",
    "print(response.status_code, \": \", response.json())\n"
   ]
  },
  {
   "cell_type": "code",
   "execution_count": 15,
   "metadata": {},
   "outputs": [
    {
     "name": "stdout",
     "output_type": "stream",
     "text": [
      "200\n"
     ]
    }
   ],
   "source": [
    "# GET REPORT FILE\n",
    "url = \"https://api.imentiv.ai/v1/videos/408bef4d-0f92-4dae-aa5b-f556acaa037f/report\"\n",
    "\n",
    "headers = {\n",
    "    \"accept\": \"application/json\",\n",
    "    \"X-API-Key\": API_KEYS[\"IMENTIV_API_KEY\"]\n",
    "}\n",
    "\n",
    "response = requests.get(url, headers=headers)\n",
    "print(response.status_code)#, \": \", response.json())"
   ]
  },
  {
   "cell_type": "code",
   "execution_count": null,
   "metadata": {},
   "outputs": [
    {
     "name": "stdout",
     "output_type": "stream",
     "text": [
      "ZIP file downloaded and extracted.\n"
     ]
    }
   ],
   "source": [
    "import zipfile\n",
    "import io\n",
    "\n",
    "if response.status_code == 200 and 'application/zip' in response.headers.get('Content-Type', ''):\n",
    "    with zipfile.ZipFile(io.BytesIO(response.content)) as zip_ref:\n",
    "        zip_ref.extractall('../data/video_id')  "
   ]
  },
  {
   "cell_type": "markdown",
   "metadata": {},
   "source": [
    "---"
   ]
  }
 ],
 "metadata": {
  "kernelspec": {
   "display_name": "base",
   "language": "python",
   "name": "python3"
  },
  "language_info": {
   "codemirror_mode": {
    "name": "ipython",
    "version": 3
   },
   "file_extension": ".py",
   "mimetype": "text/x-python",
   "name": "python",
   "nbconvert_exporter": "python",
   "pygments_lexer": "ipython3",
   "version": "3.12.2"
  }
 },
 "nbformat": 4,
 "nbformat_minor": 2
}
