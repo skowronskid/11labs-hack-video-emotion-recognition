{
 "cells": [
  {
   "cell_type": "code",
   "execution_count": 0,
   "metadata": {
    "application/vnd.databricks.v1+cell": {
     "cellMetadata": {
      "byteLimit": 2048000,
      "rowLimit": 10000
     },
     "inputWidgets": {},
     "nuid": "e74fb622-5e35-4a5a-a15f-dcfed8667206",
     "showTitle": false,
     "tableResultSettingsMap": {},
     "title": ""
    }
   },
   "outputs": [
    {
     "name": "stdout",
     "output_type": "stream",
     "text": [
      "Requirement already satisfied: supabase in /local_disk0/.ephemeral_nfs/envs/pythonEnv-d34b62ec-7a65-4455-a902-9fede1912ed3/lib/python3.10/site-packages (2.13.0)\n",
      "Requirement already satisfied: httpx<0.29,>=0.26 in /local_disk0/.ephemeral_nfs/envs/pythonEnv-d34b62ec-7a65-4455-a902-9fede1912ed3/lib/python3.10/site-packages (from supabase) (0.28.1)\n",
      "Requirement already satisfied: supafunc<0.10,>=0.9 in /local_disk0/.ephemeral_nfs/envs/pythonEnv-d34b62ec-7a65-4455-a902-9fede1912ed3/lib/python3.10/site-packages (from supabase) (0.9.3)\n",
      "Requirement already satisfied: postgrest<0.20,>=0.19 in /local_disk0/.ephemeral_nfs/envs/pythonEnv-d34b62ec-7a65-4455-a902-9fede1912ed3/lib/python3.10/site-packages (from supabase) (0.19.3)\n",
      "Requirement already satisfied: gotrue<3.0.0,>=2.11.0 in /local_disk0/.ephemeral_nfs/envs/pythonEnv-d34b62ec-7a65-4455-a902-9fede1912ed3/lib/python3.10/site-packages (from supabase) (2.11.4)\n",
      "Requirement already satisfied: storage3<0.12,>=0.10 in /local_disk0/.ephemeral_nfs/envs/pythonEnv-d34b62ec-7a65-4455-a902-9fede1912ed3/lib/python3.10/site-packages (from supabase) (0.11.3)\n",
      "Requirement already satisfied: realtime<3.0.0,>=2.0.0 in /local_disk0/.ephemeral_nfs/envs/pythonEnv-d34b62ec-7a65-4455-a902-9fede1912ed3/lib/python3.10/site-packages (from supabase) (2.4.0)\n",
      "Requirement already satisfied: pydantic<3,>=1.10 in /databricks/python3/lib/python3.10/site-packages (from gotrue<3.0.0,>=2.11.0->supabase) (1.10.6)\n",
      "Requirement already satisfied: certifi in /databricks/python3/lib/python3.10/site-packages (from httpx<0.29,>=0.26->supabase) (2022.12.7)\n",
      "Requirement already satisfied: anyio in /databricks/python3/lib/python3.10/site-packages (from httpx<0.29,>=0.26->supabase) (3.5.0)\n",
      "Requirement already satisfied: idna in /databricks/python3/lib/python3.10/site-packages (from httpx<0.29,>=0.26->supabase) (3.4)\n",
      "Requirement already satisfied: httpcore==1.* in /local_disk0/.ephemeral_nfs/envs/pythonEnv-d34b62ec-7a65-4455-a902-9fede1912ed3/lib/python3.10/site-packages (from httpx<0.29,>=0.26->supabase) (1.0.7)\n",
      "Requirement already satisfied: h11<0.15,>=0.13 in /local_disk0/.ephemeral_nfs/envs/pythonEnv-d34b62ec-7a65-4455-a902-9fede1912ed3/lib/python3.10/site-packages (from httpcore==1.*->httpx<0.29,>=0.26->supabase) (0.14.0)\n",
      "Requirement already satisfied: strenum<0.5.0,>=0.4.9 in /local_disk0/.ephemeral_nfs/envs/pythonEnv-d34b62ec-7a65-4455-a902-9fede1912ed3/lib/python3.10/site-packages (from postgrest<0.20,>=0.19->supabase) (0.4.15)\n",
      "Requirement already satisfied: deprecation<3.0.0,>=2.1.0 in /local_disk0/.ephemeral_nfs/envs/pythonEnv-d34b62ec-7a65-4455-a902-9fede1912ed3/lib/python3.10/site-packages (from postgrest<0.20,>=0.19->supabase) (2.1.0)\n",
      "Requirement already satisfied: python-dateutil<3.0.0,>=2.8.1 in /databricks/python3/lib/python3.10/site-packages (from realtime<3.0.0,>=2.0.0->supabase) (2.8.2)\n",
      "Requirement already satisfied: websockets<15,>=11 in /local_disk0/.ephemeral_nfs/envs/pythonEnv-d34b62ec-7a65-4455-a902-9fede1912ed3/lib/python3.10/site-packages (from realtime<3.0.0,>=2.0.0->supabase) (14.2)\n",
      "Requirement already satisfied: typing-extensions<5.0.0,>=4.12.2 in /local_disk0/.ephemeral_nfs/envs/pythonEnv-d34b62ec-7a65-4455-a902-9fede1912ed3/lib/python3.10/site-packages (from realtime<3.0.0,>=2.0.0->supabase) (4.12.2)\n",
      "Requirement already satisfied: aiohttp<4.0.0,>=3.11.12 in /local_disk0/.ephemeral_nfs/envs/pythonEnv-d34b62ec-7a65-4455-a902-9fede1912ed3/lib/python3.10/site-packages (from realtime<3.0.0,>=2.0.0->supabase) (3.11.12)\n",
      "Requirement already satisfied: propcache>=0.2.0 in /local_disk0/.ephemeral_nfs/envs/pythonEnv-d34b62ec-7a65-4455-a902-9fede1912ed3/lib/python3.10/site-packages (from aiohttp<4.0.0,>=3.11.12->realtime<3.0.0,>=2.0.0->supabase) (0.3.0)\n",
      "Requirement already satisfied: aiohappyeyeballs>=2.3.0 in /local_disk0/.ephemeral_nfs/envs/pythonEnv-d34b62ec-7a65-4455-a902-9fede1912ed3/lib/python3.10/site-packages (from aiohttp<4.0.0,>=3.11.12->realtime<3.0.0,>=2.0.0->supabase) (2.4.6)\n",
      "Requirement already satisfied: attrs>=17.3.0 in /databricks/python3/lib/python3.10/site-packages (from aiohttp<4.0.0,>=3.11.12->realtime<3.0.0,>=2.0.0->supabase) (22.1.0)\n",
      "Requirement already satisfied: async-timeout<6.0,>=4.0 in /local_disk0/.ephemeral_nfs/envs/pythonEnv-d34b62ec-7a65-4455-a902-9fede1912ed3/lib/python3.10/site-packages (from aiohttp<4.0.0,>=3.11.12->realtime<3.0.0,>=2.0.0->supabase) (5.0.1)\n",
      "Requirement already satisfied: yarl<2.0,>=1.17.0 in /local_disk0/.ephemeral_nfs/envs/pythonEnv-d34b62ec-7a65-4455-a902-9fede1912ed3/lib/python3.10/site-packages (from aiohttp<4.0.0,>=3.11.12->realtime<3.0.0,>=2.0.0->supabase) (1.18.3)\n",
      "Requirement already satisfied: aiosignal>=1.1.2 in /local_disk0/.ephemeral_nfs/envs/pythonEnv-d34b62ec-7a65-4455-a902-9fede1912ed3/lib/python3.10/site-packages (from aiohttp<4.0.0,>=3.11.12->realtime<3.0.0,>=2.0.0->supabase) (1.3.2)\n",
      "Requirement already satisfied: multidict<7.0,>=4.5 in /local_disk0/.ephemeral_nfs/envs/pythonEnv-d34b62ec-7a65-4455-a902-9fede1912ed3/lib/python3.10/site-packages (from aiohttp<4.0.0,>=3.11.12->realtime<3.0.0,>=2.0.0->supabase) (6.1.0)\n",
      "Requirement already satisfied: frozenlist>=1.1.1 in /local_disk0/.ephemeral_nfs/envs/pythonEnv-d34b62ec-7a65-4455-a902-9fede1912ed3/lib/python3.10/site-packages (from aiohttp<4.0.0,>=3.11.12->realtime<3.0.0,>=2.0.0->supabase) (1.5.0)\n",
      "Requirement already satisfied: packaging in /databricks/python3/lib/python3.10/site-packages (from deprecation<3.0.0,>=2.1.0->postgrest<0.20,>=0.19->supabase) (23.2)\n",
      "Requirement already satisfied: h2<5,>=3 in /local_disk0/.ephemeral_nfs/envs/pythonEnv-d34b62ec-7a65-4455-a902-9fede1912ed3/lib/python3.10/site-packages (from httpx<0.29,>=0.26->supabase) (4.2.0)\n",
      "Requirement already satisfied: six>=1.5 in /usr/lib/python3/dist-packages (from python-dateutil<3.0.0,>=2.8.1->realtime<3.0.0,>=2.0.0->supabase) (1.16.0)\n",
      "Requirement already satisfied: sniffio>=1.1 in /databricks/python3/lib/python3.10/site-packages (from anyio->httpx<0.29,>=0.26->supabase) (1.2.0)\n",
      "Requirement already satisfied: hpack<5,>=4.1 in /local_disk0/.ephemeral_nfs/envs/pythonEnv-d34b62ec-7a65-4455-a902-9fede1912ed3/lib/python3.10/site-packages (from h2<5,>=3->httpx<0.29,>=0.26->supabase) (4.1.0)\n",
      "Requirement already satisfied: hyperframe<7,>=6.1 in /local_disk0/.ephemeral_nfs/envs/pythonEnv-d34b62ec-7a65-4455-a902-9fede1912ed3/lib/python3.10/site-packages (from h2<5,>=3->httpx<0.29,>=0.26->supabase) (6.1.0)\n",
      "\u001b[43mNote: you may need to restart the kernel using %restart_python or dbutils.library.restartPython() to use updated packages.\u001b[0m\n"
     ]
    }
   ],
   "source": [
    "%pip install supabase\n",
    "dbutils.library.restartPython()"
   ]
  },
  {
   "cell_type": "code",
   "execution_count": 0,
   "metadata": {
    "application/vnd.databricks.v1+cell": {
     "cellMetadata": {
      "byteLimit": 2048000,
      "rowLimit": 10000
     },
     "inputWidgets": {},
     "nuid": "ef6addbe-cfae-4053-9f9d-e6f0ce61b894",
     "showTitle": false,
     "tableResultSettingsMap": {},
     "title": ""
    }
   },
   "outputs": [],
   "source": [
    "import requests\n",
    "from requests.auth import HTTPBasicAuth\n",
    "import os\n",
    "import time\n",
    "import zipfile\n",
    "import csv\n",
    "import io\n",
    "from supabase.lib.client_options import ClientOptions"
   ]
  },
  {
   "cell_type": "code",
   "execution_count": 0,
   "metadata": {
    "application/vnd.databricks.v1+cell": {
     "cellMetadata": {
      "byteLimit": 2048000,
      "rowLimit": 10000
     },
     "inputWidgets": {},
     "nuid": "55af7fe1-1e8c-4b82-961e-7973f869c6a0",
     "showTitle": false,
     "tableResultSettingsMap": {},
     "title": ""
    }
   },
   "outputs": [],
   "source": [
    "# API URL\n",
    "url = \"https://11labs-hackathon-tokens.vercel.app/api/tokens\"\n",
    "\n",
    "# Add to secrets as well\n",
    "username = \"dupa\"\n",
    "password = \"bb96ac75f83b566bdf6fe03dffec5293\"\n",
    "\n",
    "api_keys = requests.get(url, auth=HTTPBasicAuth(username, password)).json()\n",
    "\n",
    "# Constants\n",
    "SUPABASE_SERVICE_KEY = api_keys.get('supabaseServiceKey')\n",
    "SUPABASE_URL = api_keys.get('supabaseUrl')\n",
    "IMENTIV_API_KEY = 'W4eOXlTHbhdJSXNy_kmh-h6VEJzGJZtAu--p8EK1iIRKw-hEQTd-KbTIvfvLKOJJKfc'\n",
    "ELEVENLABS_API_KEY = api_keys.get('elevenLabs')\n",
    "# add these later\n",
    "CALLBACK_URL = \"https://silly-doctor-72.webhook.cool\" \n",
    "URL_PREFIX = \"https://api.imentiv.ai/v1/videos\"\n",
    "# Define global headers\n",
    "HEADERS = {\n",
    "    \"accept\": \"application/json\",\n",
    "    \"X-API-Key\": IMENTIV_API_KEY\n",
    "}"
   ]
  },
  {
   "cell_type": "code",
   "execution_count": 0,
   "metadata": {
    "application/vnd.databricks.v1+cell": {
     "cellMetadata": {
      "byteLimit": 2048000,
      "rowLimit": 10000
     },
     "inputWidgets": {},
     "nuid": "935c1b17-7cad-47c9-b9dc-2a8a6d6469ea",
     "showTitle": false,
     "tableResultSettingsMap": {},
     "title": ""
    }
   },
   "outputs": [],
   "source": [
    "from supabase import create_client, Client\n",
    "supabase: Client = create_client(SUPABASE_URL, SUPABASE_SERVICE_KEY)"
   ]
  },
  {
   "cell_type": "code",
   "execution_count": 0,
   "metadata": {
    "application/vnd.databricks.v1+cell": {
     "cellMetadata": {
      "byteLimit": 2048000,
      "rowLimit": 10000
     },
     "inputWidgets": {},
     "nuid": "92328ef5-eb4d-40ec-a8b8-ab80938bbcdf",
     "showTitle": false,
     "tableResultSettingsMap": {},
     "title": ""
    }
   },
   "outputs": [
    {
     "name": "stdout",
     "output_type": "stream",
     "text": [
      "✅ Video uploaded successfully! Video ID: 308b3032-7c58-428c-841e-43f57a07dcbe\n",
      "308b3032-7c58-428c-841e-43f57a07dcbe\n"
     ]
    }
   ],
   "source": [
    "def upload_video(bucket_name: str, title: str, description: str) -> str:\n",
    "    \"\"\"\n",
    "    Fetches latest uploaded screening and uploads it to the analysis service.\n",
    "    \"\"\"\n",
    "    data = {\n",
    "        \"title\": title,\n",
    "        \"description\": description,\n",
    "        \"video_url\": \"\",\n",
    "        \"start_millis\": \"\",\n",
    "        \"end_millis\": \"\",\n",
    "        \"callback_url\": CALLBACK_URL\n",
    "    }\n",
    "    # Fetch file from bucket\n",
    "    screenings_bucket = supabase.storage.from_(bucket_name)\n",
    "    latest_screening = max(screenings_bucket.list(), key=lambda x: x['created_at'])\n",
    "    latest_screening_name = latest_screening['name']\n",
    "    latest_screening_file = screenings_bucket.download(latest_screening_name)\n",
    "    # Upload to analysis service\n",
    "    try:\n",
    "        files = {\n",
    "            \"video\": (latest_screening_name, latest_screening_file, \"video/webm\")\n",
    "        }\n",
    "        response = requests.post(URL_PREFIX, headers={\"X-API-Key\": IMENTIV_API_KEY}, data=data, files=files)\n",
    "        response.raise_for_status()\n",
    "        video_id = response.json()[\"id\"]\n",
    "        print(f\"✅ Video uploaded successfully! Video ID: {video_id}\")\n",
    "        return video_id\n",
    "    except Exception as e:\n",
    "        print(f\"❌ Video upload failed: {e}\")\n",
    "        raise\n",
    "video_id = upload_video('screening', \"Test Video\", \"This is a test video\")\n",
    "print(video_id)"
   ]
  },
  {
   "cell_type": "code",
   "execution_count": 0,
   "metadata": {
    "application/vnd.databricks.v1+cell": {
     "cellMetadata": {
      "byteLimit": 2048000,
      "rowLimit": 10000
     },
     "inputWidgets": {},
     "nuid": "d35c78de-d210-4c60-95a7-00ff8612d6f9",
     "showTitle": false,
     "tableResultSettingsMap": {},
     "title": ""
    }
   },
   "outputs": [
    {
     "name": "stdout",
     "output_type": "stream",
     "text": [
      "Still processing. Retrying in 20 seconds.\n",
      "Still processing. Retrying in 20 seconds.\n",
      "Still processing. Retrying in 20 seconds.\n",
      "Still processing. Retrying in 20 seconds.\n",
      "Still processing. Retrying in 20 seconds.\n",
      "Still processing. Retrying in 20 seconds.\n",
      "Still processing. Retrying in 20 seconds.\n",
      "Still processing. Retrying in 20 seconds.\n",
      "Still processing. Retrying in 20 seconds.\n",
      "Still processing. Retrying in 20 seconds.\n",
      "Still processing. Retrying in 20 seconds.\n",
      "Still processing. Retrying in 20 seconds.\n",
      "Still processing. Retrying in 20 seconds.\n",
      "Still processing. Retrying in 20 seconds.\n",
      "Still processing. Retrying in 20 seconds.\n",
      "Still processing. Retrying in 20 seconds.\n",
      "Still processing. Retrying in 20 seconds.\n",
      "Still processing. Retrying in 20 seconds.\n",
      "Still processing. Retrying in 20 seconds.\n",
      "Still processing. Retrying in 20 seconds.\n",
      "Still processing. Retrying in 20 seconds.\n",
      "Still processing. Retrying in 20 seconds.\n",
      "Still processing. Retrying in 20 seconds.\n",
      "Still processing. Retrying in 20 seconds.\n",
      "Still processing. Retrying in 20 seconds.\n",
      "Still processing. Retrying in 20 seconds.\n",
      "Still processing. Retrying in 20 seconds.\n",
      "Still processing. Retrying in 20 seconds.\n",
      "Still processing. Retrying in 20 seconds.\n",
      "Still processing. Retrying in 20 seconds.\n",
      "Still processing. Retrying in 20 seconds.\n",
      "Still processing. Retrying in 20 seconds.\n",
      "Still processing. Retrying in 20 seconds.\n",
      "Still processing. Retrying in 20 seconds.\n"
     ]
    },
    {
     "data": {
      "text/plain": [
       "com.databricks.backend.common.rpc.CommandCancelledException\n",
       "\tat com.databricks.spark.chauffeur.SequenceExecutionState.$anonfun$cancel$5(SequenceExecutionState.scala:136)\n",
       "\tat scala.Option.getOrElse(Option.scala:189)\n",
       "\tat com.databricks.spark.chauffeur.SequenceExecutionState.$anonfun$cancel$3(SequenceExecutionState.scala:136)\n",
       "\tat com.databricks.spark.chauffeur.SequenceExecutionState.$anonfun$cancel$3$adapted(SequenceExecutionState.scala:133)\n",
       "\tat scala.collection.immutable.Range.foreach(Range.scala:158)\n",
       "\tat com.databricks.spark.chauffeur.SequenceExecutionState.cancel(SequenceExecutionState.scala:133)\n",
       "\tat com.databricks.spark.chauffeur.ExecContextState.cancelRunningSequence(ExecContextState.scala:717)\n",
       "\tat com.databricks.spark.chauffeur.ExecContextState.$anonfun$cancel$1(ExecContextState.scala:435)\n",
       "\tat scala.Option.getOrElse(Option.scala:189)\n",
       "\tat com.databricks.spark.chauffeur.ExecContextState.cancel(ExecContextState.scala:435)\n",
       "\tat com.databricks.spark.chauffeur.ExecutionContextManagerV1.cancelExecution(ExecutionContextManagerV1.scala:458)\n",
       "\tat com.databricks.spark.chauffeur.ChauffeurState.$anonfun$process$1(ChauffeurState.scala:591)\n",
       "\tat com.databricks.logging.UsageLogging.$anonfun$recordOperation$1(UsageLogging.scala:507)\n",
       "\tat com.databricks.logging.UsageLogging.executeThunkAndCaptureResultTags$1(UsageLogging.scala:611)\n",
       "\tat com.databricks.logging.UsageLogging.$anonfun$recordOperationWithResultTags$4(UsageLogging.scala:631)\n",
       "\tat com.databricks.logging.AttributionContextTracing.$anonfun$withAttributionContext$1(AttributionContextTracing.scala:48)\n",
       "\tat com.databricks.logging.AttributionContext$.$anonfun$withValue$1(AttributionContext.scala:273)\n",
       "\tat scala.util.DynamicVariable.withValue(DynamicVariable.scala:62)\n",
       "\tat com.databricks.logging.AttributionContext$.withValue(AttributionContext.scala:269)\n",
       "\tat com.databricks.logging.AttributionContextTracing.withAttributionContext(AttributionContextTracing.scala:46)\n",
       "\tat com.databricks.logging.AttributionContextTracing.withAttributionContext$(AttributionContextTracing.scala:43)\n",
       "\tat com.databricks.spark.chauffeur.ChauffeurState.withAttributionContext(ChauffeurState.scala:62)\n",
       "\tat com.databricks.logging.AttributionContextTracing.withAttributionTags(AttributionContextTracing.scala:95)\n",
       "\tat com.databricks.logging.AttributionContextTracing.withAttributionTags$(AttributionContextTracing.scala:76)\n",
       "\tat com.databricks.spark.chauffeur.ChauffeurState.withAttributionTags(ChauffeurState.scala:62)\n",
       "\tat com.databricks.logging.UsageLogging.recordOperationWithResultTags(UsageLogging.scala:606)\n",
       "\tat com.databricks.logging.UsageLogging.recordOperationWithResultTags$(UsageLogging.scala:516)\n",
       "\tat com.databricks.spark.chauffeur.ChauffeurState.recordOperationWithResultTags(ChauffeurState.scala:62)\n",
       "\tat com.databricks.logging.UsageLogging.recordOperation(UsageLogging.scala:508)\n",
       "\tat com.databricks.logging.UsageLogging.recordOperation$(UsageLogging.scala:476)\n",
       "\tat com.databricks.spark.chauffeur.ChauffeurState.recordOperation(ChauffeurState.scala:62)\n",
       "\tat com.databricks.spark.chauffeur.ChauffeurState.process(ChauffeurState.scala:569)\n",
       "\tat com.databricks.spark.chauffeur.Chauffeur$$anon$1$$anonfun$receive$1.handleDriverRequest$1(Chauffeur.scala:851)\n",
       "\tat com.databricks.spark.chauffeur.Chauffeur$$anon$1$$anonfun$receive$1.$anonfun$applyOrElse$5(Chauffeur.scala:877)\n",
       "\tat com.databricks.logging.UsageLogging.executeThunkAndCaptureResultTags$1(UsageLogging.scala:611)\n",
       "\tat com.databricks.logging.UsageLogging.$anonfun$recordOperationWithResultTags$4(UsageLogging.scala:631)\n",
       "\tat com.databricks.logging.AttributionContextTracing.$anonfun$withAttributionContext$1(AttributionContextTracing.scala:48)\n",
       "\tat com.databricks.logging.AttributionContext$.$anonfun$withValue$1(AttributionContext.scala:273)\n",
       "\tat scala.util.DynamicVariable.withValue(DynamicVariable.scala:62)\n",
       "\tat com.databricks.logging.AttributionContext$.withValue(AttributionContext.scala:269)\n",
       "\tat com.databricks.logging.AttributionContextTracing.withAttributionContext(AttributionContextTracing.scala:46)\n",
       "\tat com.databricks.logging.AttributionContextTracing.withAttributionContext$(AttributionContextTracing.scala:43)\n",
       "\tat com.databricks.rpc.ServerBackend.withAttributionContext(ServerBackend.scala:23)\n",
       "\tat com.databricks.logging.AttributionContextTracing.withAttributionTags(AttributionContextTracing.scala:95)\n",
       "\tat com.databricks.logging.AttributionContextTracing.withAttributionTags$(AttributionContextTracing.scala:76)\n",
       "\tat com.databricks.rpc.ServerBackend.withAttributionTags(ServerBackend.scala:23)\n",
       "\tat com.databricks.logging.UsageLogging.recordOperationWithResultTags(UsageLogging.scala:606)\n",
       "\tat com.databricks.logging.UsageLogging.recordOperationWithResultTags$(UsageLogging.scala:516)\n",
       "\tat com.databricks.rpc.ServerBackend.recordOperationWithResultTags(ServerBackend.scala:23)\n",
       "\tat com.databricks.spark.chauffeur.Chauffeur$$anon$1$$anonfun$receive$1.handleDriverRequestWithUsageLogging$1(Chauffeur.scala:876)\n",
       "\tat com.databricks.spark.chauffeur.Chauffeur$$anon$1$$anonfun$receive$1.applyOrElse(Chauffeur.scala:931)\n",
       "\tat com.databricks.spark.chauffeur.Chauffeur$$anon$1$$anonfun$receive$1.applyOrElse(Chauffeur.scala:724)\n",
       "\tat com.databricks.rpc.ServerBackend.$anonfun$internalReceive0$2(ServerBackend.scala:175)\n",
       "\tat com.databricks.rpc.ServerBackend$$anonfun$commonReceive$1.applyOrElse(ServerBackend.scala:201)\n",
       "\tat com.databricks.rpc.ServerBackend$$anonfun$commonReceive$1.applyOrElse(ServerBackend.scala:201)\n",
       "\tat com.databricks.rpc.ServerBackend.internalReceive0(ServerBackend.scala:172)\n",
       "\tat com.databricks.rpc.ServerBackend.$anonfun$internalReceive$1(ServerBackend.scala:148)\n",
       "\tat com.databricks.logging.UsageLogging.$anonfun$recordOperation$1(UsageLogging.scala:507)\n",
       "\tat com.databricks.logging.UsageLogging.executeThunkAndCaptureResultTags$1(UsageLogging.scala:611)\n",
       "\tat com.databricks.logging.UsageLogging.$anonfun$recordOperationWithResultTags$4(UsageLogging.scala:631)\n",
       "\tat com.databricks.logging.AttributionContextTracing.$anonfun$withAttributionContext$1(AttributionContextTracing.scala:48)\n",
       "\tat com.databricks.logging.AttributionContext$.$anonfun$withValue$1(AttributionContext.scala:273)\n",
       "\tat scala.util.DynamicVariable.withValue(DynamicVariable.scala:62)\n",
       "\tat com.databricks.logging.AttributionContext$.withValue(AttributionContext.scala:269)\n",
       "\tat com.databricks.logging.AttributionContextTracing.withAttributionContext(AttributionContextTracing.scala:46)\n",
       "\tat com.databricks.logging.AttributionContextTracing.withAttributionContext$(AttributionContextTracing.scala:43)\n",
       "\tat com.databricks.rpc.ServerBackend.withAttributionContext(ServerBackend.scala:23)\n",
       "\tat com.databricks.logging.AttributionContextTracing.withAttributionTags(AttributionContextTracing.scala:95)\n",
       "\tat com.databricks.logging.AttributionContextTracing.withAttributionTags$(AttributionContextTracing.scala:76)\n",
       "\tat com.databricks.rpc.ServerBackend.withAttributionTags(ServerBackend.scala:23)\n",
       "\tat com.databricks.logging.UsageLogging.recordOperationWithResultTags(UsageLogging.scala:606)\n",
       "\tat com.databricks.logging.UsageLogging.recordOperationWithResultTags$(UsageLogging.scala:516)\n",
       "\tat com.databricks.rpc.ServerBackend.recordOperationWithResultTags(ServerBackend.scala:23)\n",
       "\tat com.databricks.logging.UsageLogging.recordOperation(UsageLogging.scala:508)\n",
       "\tat com.databricks.logging.UsageLogging.recordOperation$(UsageLogging.scala:476)\n",
       "\tat com.databricks.rpc.ServerBackend.recordOperation(ServerBackend.scala:23)\n",
       "\tat com.databricks.rpc.ServerBackend.internalReceive(ServerBackend.scala:147)\n",
       "\tat com.databricks.rpc.JettyServer$RequestManager.handleRPC(JettyServer.scala:1027)\n",
       "\tat com.databricks.rpc.JettyServer$RequestManager.handleRequestAndRespond(JettyServer.scala:947)\n",
       "\tat com.databricks.rpc.JettyServer$RequestManager.$anonfun$handleHttp$6(JettyServer.scala:547)\n",
       "\tat com.databricks.rpc.JettyServer$RequestManager.$anonfun$handleHttp$6$adapted(JettyServer.scala:516)\n",
       "\tat com.databricks.logging.activity.ActivityContextFactory$.$anonfun$withActivityInternal$8(ActivityContextFactory.scala:676)\n",
       "\tat com.databricks.logging.AttributionContextTracing.$anonfun$withAttributionContext$1(AttributionContextTracing.scala:48)\n",
       "\tat com.databricks.logging.AttributionContext$.$anonfun$withValue$1(AttributionContext.scala:273)\n",
       "\tat scala.util.DynamicVariable.withValue(DynamicVariable.scala:62)\n",
       "\tat com.databricks.logging.AttributionContext$.withValue(AttributionContext.scala:269)\n",
       "\tat com.databricks.logging.AttributionContextTracing.withAttributionContext(AttributionContextTracing.scala:46)\n",
       "\tat com.databricks.logging.AttributionContextTracing.withAttributionContext$(AttributionContextTracing.scala:43)\n",
       "\tat com.databricks.logging.activity.ActivityContextFactory$.withAttributionContext(ActivityContextFactory.scala:48)\n",
       "\tat com.databricks.logging.activity.ActivityContextFactory$.$anonfun$withActivityInternal$2(ActivityContextFactory.scala:676)\n",
       "\tat com.databricks.context.integrity.IntegrityCheckContext$ThreadLocalStorage$.withValue(IntegrityCheckContext.scala:73)\n",
       "\tat com.databricks.logging.activity.ActivityContextFactory$.withActivityInternal(ActivityContextFactory.scala:647)\n",
       "\tat com.databricks.logging.activity.ActivityContextFactory$.withActivityInternal(ActivityContextFactory.scala:629)\n",
       "\tat com.databricks.logging.activity.ActivityContextFactory$.withServiceRequestActivity(ActivityContextFactory.scala:250)\n",
       "\tat com.databricks.rpc.JettyServer$RequestManager.handleHttp(JettyServer.scala:516)\n",
       "\tat com.databricks.rpc.JettyServer$RequestManager.doPost(JettyServer.scala:406)\n",
       "\tat javax.servlet.http.HttpServlet.service(HttpServlet.java:665)\n",
       "\tat com.databricks.rpc.HttpServletWithPatch.service(HttpServletWithPatch.scala:33)\n",
       "\tat javax.servlet.http.HttpServlet.service(HttpServlet.java:750)\n",
       "\tat org.eclipse.jetty.servlet.ServletHolder.handle(ServletHolder.java:799)\n",
       "\tat org.eclipse.jetty.servlet.ServletHandler.doHandle(ServletHandler.java:554)\n",
       "\tat org.eclipse.jetty.server.handler.ScopedHandler.nextScope(ScopedHandler.java:190)\n",
       "\tat org.eclipse.jetty.servlet.ServletHandler.doScope(ServletHandler.java:505)\n",
       "\tat org.eclipse.jetty.server.handler.ScopedHandler.handle(ScopedHandler.java:141)\n",
       "\tat org.eclipse.jetty.server.handler.HandlerWrapper.handle(HandlerWrapper.java:127)\n",
       "\tat org.eclipse.jetty.server.Server.handle(Server.java:516)\n",
       "\tat org.eclipse.jetty.server.HttpChannel.lambda$handle$1(HttpChannel.java:487)\n",
       "\tat org.eclipse.jetty.server.HttpChannel.dispatch(HttpChannel.java:732)\n",
       "\tat org.eclipse.jetty.server.HttpChannel.handle(HttpChannel.java:479)\n",
       "\tat org.eclipse.jetty.server.HttpConnection.onFillable(HttpConnection.java:277)\n",
       "\tat org.eclipse.jetty.io.AbstractConnection$ReadCallback.succeeded(AbstractConnection.java:311)\n",
       "\tat org.eclipse.jetty.io.FillInterest.fillable(FillInterest.java:105)\n",
       "\tat org.eclipse.jetty.io.ssl.SslConnection$DecryptedEndPoint.onFillable(SslConnection.java:555)\n",
       "\tat org.eclipse.jetty.io.ssl.SslConnection.onFillable(SslConnection.java:410)\n",
       "\tat org.eclipse.jetty.io.ssl.SslConnection$2.succeeded(SslConnection.java:164)\n",
       "\tat org.eclipse.jetty.io.FillInterest.fillable(FillInterest.java:105)\n",
       "\tat org.eclipse.jetty.io.ChannelEndPoint$1.run(ChannelEndPoint.java:104)\n",
       "\tat org.eclipse.jetty.util.thread.strategy.EatWhatYouKill.runTask(EatWhatYouKill.java:338)\n",
       "\tat org.eclipse.jetty.util.thread.strategy.EatWhatYouKill.doProduce(EatWhatYouKill.java:315)\n",
       "\tat org.eclipse.jetty.util.thread.strategy.EatWhatYouKill.tryProduce(EatWhatYouKill.java:173)\n",
       "\tat org.eclipse.jetty.util.thread.strategy.EatWhatYouKill.run(EatWhatYouKill.java:131)\n",
       "\tat org.eclipse.jetty.util.thread.ReservedThreadExecutor$ReservedThread.run(ReservedThreadExecutor.java:409)\n",
       "\tat com.databricks.rpc.InstrumentedQueuedThreadPool$$anon$1.$anonfun$run$2(InstrumentedQueuedThreadPool.scala:110)\n",
       "\tat scala.runtime.java8.JFunction0$mcV$sp.apply(JFunction0$mcV$sp.java:23)\n",
       "\tat com.databricks.logging.AttributionContextTracing.$anonfun$withAttributionContext$1(AttributionContextTracing.scala:48)\n",
       "\tat com.databricks.logging.AttributionContext$.$anonfun$withValue$1(AttributionContext.scala:273)\n",
       "\tat scala.util.DynamicVariable.withValue(DynamicVariable.scala:62)\n",
       "\tat com.databricks.logging.AttributionContext$.withValue(AttributionContext.scala:269)\n",
       "\tat com.databricks.logging.AttributionContextTracing.withAttributionContext(AttributionContextTracing.scala:46)\n",
       "\tat com.databricks.logging.AttributionContextTracing.withAttributionContext$(AttributionContextTracing.scala:43)\n",
       "\tat com.databricks.rpc.InstrumentedQueuedThreadPool.withAttributionContext(InstrumentedQueuedThreadPool.scala:45)\n",
       "\tat com.databricks.rpc.InstrumentedQueuedThreadPool$$anon$1.$anonfun$run$1(InstrumentedQueuedThreadPool.scala:110)\n",
       "\tat scala.runtime.java8.JFunction0$mcV$sp.apply(JFunction0$mcV$sp.java:23)\n",
       "\tat com.databricks.instrumentation.QueuedThreadPoolInstrumenter.trackActiveThreads(QueuedThreadPoolInstrumenter.scala:126)\n",
       "\tat com.databricks.instrumentation.QueuedThreadPoolInstrumenter.trackActiveThreads$(QueuedThreadPoolInstrumenter.scala:123)\n",
       "\tat com.databricks.rpc.InstrumentedQueuedThreadPool.trackActiveThreads(InstrumentedQueuedThreadPool.scala:45)\n",
       "\tat com.databricks.rpc.InstrumentedQueuedThreadPool$$anon$1.run(InstrumentedQueuedThreadPool.scala:92)\n",
       "\tat org.eclipse.jetty.util.thread.QueuedThreadPool.runJob(QueuedThreadPool.java:883)\n",
       "\tat org.eclipse.jetty.util.thread.QueuedThreadPool$Runner.run(QueuedThreadPool.java:1034)\n",
       "\tat java.lang.Thread.run(Thread.java:750)"
      ]
     },
     "metadata": {
      "application/vnd.databricks.v1+output": {
       "addedWidgets": {},
       "arguments": {},
       "datasetInfos": [],
       "jupyterProps": null,
       "metadata": {
        "errorSummary": "Cancelled"
       },
       "removedWidgets": [],
       "sqlProps": null,
       "stackFrames": [
        "com.databricks.backend.common.rpc.CommandCancelledException",
        "\tat com.databricks.spark.chauffeur.SequenceExecutionState.$anonfun$cancel$5(SequenceExecutionState.scala:136)",
        "\tat scala.Option.getOrElse(Option.scala:189)",
        "\tat com.databricks.spark.chauffeur.SequenceExecutionState.$anonfun$cancel$3(SequenceExecutionState.scala:136)",
        "\tat com.databricks.spark.chauffeur.SequenceExecutionState.$anonfun$cancel$3$adapted(SequenceExecutionState.scala:133)",
        "\tat scala.collection.immutable.Range.foreach(Range.scala:158)",
        "\tat com.databricks.spark.chauffeur.SequenceExecutionState.cancel(SequenceExecutionState.scala:133)",
        "\tat com.databricks.spark.chauffeur.ExecContextState.cancelRunningSequence(ExecContextState.scala:717)",
        "\tat com.databricks.spark.chauffeur.ExecContextState.$anonfun$cancel$1(ExecContextState.scala:435)",
        "\tat scala.Option.getOrElse(Option.scala:189)",
        "\tat com.databricks.spark.chauffeur.ExecContextState.cancel(ExecContextState.scala:435)",
        "\tat com.databricks.spark.chauffeur.ExecutionContextManagerV1.cancelExecution(ExecutionContextManagerV1.scala:458)",
        "\tat com.databricks.spark.chauffeur.ChauffeurState.$anonfun$process$1(ChauffeurState.scala:591)",
        "\tat com.databricks.logging.UsageLogging.$anonfun$recordOperation$1(UsageLogging.scala:507)",
        "\tat com.databricks.logging.UsageLogging.executeThunkAndCaptureResultTags$1(UsageLogging.scala:611)",
        "\tat com.databricks.logging.UsageLogging.$anonfun$recordOperationWithResultTags$4(UsageLogging.scala:631)",
        "\tat com.databricks.logging.AttributionContextTracing.$anonfun$withAttributionContext$1(AttributionContextTracing.scala:48)",
        "\tat com.databricks.logging.AttributionContext$.$anonfun$withValue$1(AttributionContext.scala:273)",
        "\tat scala.util.DynamicVariable.withValue(DynamicVariable.scala:62)",
        "\tat com.databricks.logging.AttributionContext$.withValue(AttributionContext.scala:269)",
        "\tat com.databricks.logging.AttributionContextTracing.withAttributionContext(AttributionContextTracing.scala:46)",
        "\tat com.databricks.logging.AttributionContextTracing.withAttributionContext$(AttributionContextTracing.scala:43)",
        "\tat com.databricks.spark.chauffeur.ChauffeurState.withAttributionContext(ChauffeurState.scala:62)",
        "\tat com.databricks.logging.AttributionContextTracing.withAttributionTags(AttributionContextTracing.scala:95)",
        "\tat com.databricks.logging.AttributionContextTracing.withAttributionTags$(AttributionContextTracing.scala:76)",
        "\tat com.databricks.spark.chauffeur.ChauffeurState.withAttributionTags(ChauffeurState.scala:62)",
        "\tat com.databricks.logging.UsageLogging.recordOperationWithResultTags(UsageLogging.scala:606)",
        "\tat com.databricks.logging.UsageLogging.recordOperationWithResultTags$(UsageLogging.scala:516)",
        "\tat com.databricks.spark.chauffeur.ChauffeurState.recordOperationWithResultTags(ChauffeurState.scala:62)",
        "\tat com.databricks.logging.UsageLogging.recordOperation(UsageLogging.scala:508)",
        "\tat com.databricks.logging.UsageLogging.recordOperation$(UsageLogging.scala:476)",
        "\tat com.databricks.spark.chauffeur.ChauffeurState.recordOperation(ChauffeurState.scala:62)",
        "\tat com.databricks.spark.chauffeur.ChauffeurState.process(ChauffeurState.scala:569)",
        "\tat com.databricks.spark.chauffeur.Chauffeur$$anon$1$$anonfun$receive$1.handleDriverRequest$1(Chauffeur.scala:851)",
        "\tat com.databricks.spark.chauffeur.Chauffeur$$anon$1$$anonfun$receive$1.$anonfun$applyOrElse$5(Chauffeur.scala:877)",
        "\tat com.databricks.logging.UsageLogging.executeThunkAndCaptureResultTags$1(UsageLogging.scala:611)",
        "\tat com.databricks.logging.UsageLogging.$anonfun$recordOperationWithResultTags$4(UsageLogging.scala:631)",
        "\tat com.databricks.logging.AttributionContextTracing.$anonfun$withAttributionContext$1(AttributionContextTracing.scala:48)",
        "\tat com.databricks.logging.AttributionContext$.$anonfun$withValue$1(AttributionContext.scala:273)",
        "\tat scala.util.DynamicVariable.withValue(DynamicVariable.scala:62)",
        "\tat com.databricks.logging.AttributionContext$.withValue(AttributionContext.scala:269)",
        "\tat com.databricks.logging.AttributionContextTracing.withAttributionContext(AttributionContextTracing.scala:46)",
        "\tat com.databricks.logging.AttributionContextTracing.withAttributionContext$(AttributionContextTracing.scala:43)",
        "\tat com.databricks.rpc.ServerBackend.withAttributionContext(ServerBackend.scala:23)",
        "\tat com.databricks.logging.AttributionContextTracing.withAttributionTags(AttributionContextTracing.scala:95)",
        "\tat com.databricks.logging.AttributionContextTracing.withAttributionTags$(AttributionContextTracing.scala:76)",
        "\tat com.databricks.rpc.ServerBackend.withAttributionTags(ServerBackend.scala:23)",
        "\tat com.databricks.logging.UsageLogging.recordOperationWithResultTags(UsageLogging.scala:606)",
        "\tat com.databricks.logging.UsageLogging.recordOperationWithResultTags$(UsageLogging.scala:516)",
        "\tat com.databricks.rpc.ServerBackend.recordOperationWithResultTags(ServerBackend.scala:23)",
        "\tat com.databricks.spark.chauffeur.Chauffeur$$anon$1$$anonfun$receive$1.handleDriverRequestWithUsageLogging$1(Chauffeur.scala:876)",
        "\tat com.databricks.spark.chauffeur.Chauffeur$$anon$1$$anonfun$receive$1.applyOrElse(Chauffeur.scala:931)",
        "\tat com.databricks.spark.chauffeur.Chauffeur$$anon$1$$anonfun$receive$1.applyOrElse(Chauffeur.scala:724)",
        "\tat com.databricks.rpc.ServerBackend.$anonfun$internalReceive0$2(ServerBackend.scala:175)",
        "\tat com.databricks.rpc.ServerBackend$$anonfun$commonReceive$1.applyOrElse(ServerBackend.scala:201)",
        "\tat com.databricks.rpc.ServerBackend$$anonfun$commonReceive$1.applyOrElse(ServerBackend.scala:201)",
        "\tat com.databricks.rpc.ServerBackend.internalReceive0(ServerBackend.scala:172)",
        "\tat com.databricks.rpc.ServerBackend.$anonfun$internalReceive$1(ServerBackend.scala:148)",
        "\tat com.databricks.logging.UsageLogging.$anonfun$recordOperation$1(UsageLogging.scala:507)",
        "\tat com.databricks.logging.UsageLogging.executeThunkAndCaptureResultTags$1(UsageLogging.scala:611)",
        "\tat com.databricks.logging.UsageLogging.$anonfun$recordOperationWithResultTags$4(UsageLogging.scala:631)",
        "\tat com.databricks.logging.AttributionContextTracing.$anonfun$withAttributionContext$1(AttributionContextTracing.scala:48)",
        "\tat com.databricks.logging.AttributionContext$.$anonfun$withValue$1(AttributionContext.scala:273)",
        "\tat scala.util.DynamicVariable.withValue(DynamicVariable.scala:62)",
        "\tat com.databricks.logging.AttributionContext$.withValue(AttributionContext.scala:269)",
        "\tat com.databricks.logging.AttributionContextTracing.withAttributionContext(AttributionContextTracing.scala:46)",
        "\tat com.databricks.logging.AttributionContextTracing.withAttributionContext$(AttributionContextTracing.scala:43)",
        "\tat com.databricks.rpc.ServerBackend.withAttributionContext(ServerBackend.scala:23)",
        "\tat com.databricks.logging.AttributionContextTracing.withAttributionTags(AttributionContextTracing.scala:95)",
        "\tat com.databricks.logging.AttributionContextTracing.withAttributionTags$(AttributionContextTracing.scala:76)",
        "\tat com.databricks.rpc.ServerBackend.withAttributionTags(ServerBackend.scala:23)",
        "\tat com.databricks.logging.UsageLogging.recordOperationWithResultTags(UsageLogging.scala:606)",
        "\tat com.databricks.logging.UsageLogging.recordOperationWithResultTags$(UsageLogging.scala:516)",
        "\tat com.databricks.rpc.ServerBackend.recordOperationWithResultTags(ServerBackend.scala:23)",
        "\tat com.databricks.logging.UsageLogging.recordOperation(UsageLogging.scala:508)",
        "\tat com.databricks.logging.UsageLogging.recordOperation$(UsageLogging.scala:476)",
        "\tat com.databricks.rpc.ServerBackend.recordOperation(ServerBackend.scala:23)",
        "\tat com.databricks.rpc.ServerBackend.internalReceive(ServerBackend.scala:147)",
        "\tat com.databricks.rpc.JettyServer$RequestManager.handleRPC(JettyServer.scala:1027)",
        "\tat com.databricks.rpc.JettyServer$RequestManager.handleRequestAndRespond(JettyServer.scala:947)",
        "\tat com.databricks.rpc.JettyServer$RequestManager.$anonfun$handleHttp$6(JettyServer.scala:547)",
        "\tat com.databricks.rpc.JettyServer$RequestManager.$anonfun$handleHttp$6$adapted(JettyServer.scala:516)",
        "\tat com.databricks.logging.activity.ActivityContextFactory$.$anonfun$withActivityInternal$8(ActivityContextFactory.scala:676)",
        "\tat com.databricks.logging.AttributionContextTracing.$anonfun$withAttributionContext$1(AttributionContextTracing.scala:48)",
        "\tat com.databricks.logging.AttributionContext$.$anonfun$withValue$1(AttributionContext.scala:273)",
        "\tat scala.util.DynamicVariable.withValue(DynamicVariable.scala:62)",
        "\tat com.databricks.logging.AttributionContext$.withValue(AttributionContext.scala:269)",
        "\tat com.databricks.logging.AttributionContextTracing.withAttributionContext(AttributionContextTracing.scala:46)",
        "\tat com.databricks.logging.AttributionContextTracing.withAttributionContext$(AttributionContextTracing.scala:43)",
        "\tat com.databricks.logging.activity.ActivityContextFactory$.withAttributionContext(ActivityContextFactory.scala:48)",
        "\tat com.databricks.logging.activity.ActivityContextFactory$.$anonfun$withActivityInternal$2(ActivityContextFactory.scala:676)",
        "\tat com.databricks.context.integrity.IntegrityCheckContext$ThreadLocalStorage$.withValue(IntegrityCheckContext.scala:73)",
        "\tat com.databricks.logging.activity.ActivityContextFactory$.withActivityInternal(ActivityContextFactory.scala:647)",
        "\tat com.databricks.logging.activity.ActivityContextFactory$.withActivityInternal(ActivityContextFactory.scala:629)",
        "\tat com.databricks.logging.activity.ActivityContextFactory$.withServiceRequestActivity(ActivityContextFactory.scala:250)",
        "\tat com.databricks.rpc.JettyServer$RequestManager.handleHttp(JettyServer.scala:516)",
        "\tat com.databricks.rpc.JettyServer$RequestManager.doPost(JettyServer.scala:406)",
        "\tat javax.servlet.http.HttpServlet.service(HttpServlet.java:665)",
        "\tat com.databricks.rpc.HttpServletWithPatch.service(HttpServletWithPatch.scala:33)",
        "\tat javax.servlet.http.HttpServlet.service(HttpServlet.java:750)",
        "\tat org.eclipse.jetty.servlet.ServletHolder.handle(ServletHolder.java:799)",
        "\tat org.eclipse.jetty.servlet.ServletHandler.doHandle(ServletHandler.java:554)",
        "\tat org.eclipse.jetty.server.handler.ScopedHandler.nextScope(ScopedHandler.java:190)",
        "\tat org.eclipse.jetty.servlet.ServletHandler.doScope(ServletHandler.java:505)",
        "\tat org.eclipse.jetty.server.handler.ScopedHandler.handle(ScopedHandler.java:141)",
        "\tat org.eclipse.jetty.server.handler.HandlerWrapper.handle(HandlerWrapper.java:127)",
        "\tat org.eclipse.jetty.server.Server.handle(Server.java:516)",
        "\tat org.eclipse.jetty.server.HttpChannel.lambda$handle$1(HttpChannel.java:487)",
        "\tat org.eclipse.jetty.server.HttpChannel.dispatch(HttpChannel.java:732)",
        "\tat org.eclipse.jetty.server.HttpChannel.handle(HttpChannel.java:479)",
        "\tat org.eclipse.jetty.server.HttpConnection.onFillable(HttpConnection.java:277)",
        "\tat org.eclipse.jetty.io.AbstractConnection$ReadCallback.succeeded(AbstractConnection.java:311)",
        "\tat org.eclipse.jetty.io.FillInterest.fillable(FillInterest.java:105)",
        "\tat org.eclipse.jetty.io.ssl.SslConnection$DecryptedEndPoint.onFillable(SslConnection.java:555)",
        "\tat org.eclipse.jetty.io.ssl.SslConnection.onFillable(SslConnection.java:410)",
        "\tat org.eclipse.jetty.io.ssl.SslConnection$2.succeeded(SslConnection.java:164)",
        "\tat org.eclipse.jetty.io.FillInterest.fillable(FillInterest.java:105)",
        "\tat org.eclipse.jetty.io.ChannelEndPoint$1.run(ChannelEndPoint.java:104)",
        "\tat org.eclipse.jetty.util.thread.strategy.EatWhatYouKill.runTask(EatWhatYouKill.java:338)",
        "\tat org.eclipse.jetty.util.thread.strategy.EatWhatYouKill.doProduce(EatWhatYouKill.java:315)",
        "\tat org.eclipse.jetty.util.thread.strategy.EatWhatYouKill.tryProduce(EatWhatYouKill.java:173)",
        "\tat org.eclipse.jetty.util.thread.strategy.EatWhatYouKill.run(EatWhatYouKill.java:131)",
        "\tat org.eclipse.jetty.util.thread.ReservedThreadExecutor$ReservedThread.run(ReservedThreadExecutor.java:409)",
        "\tat com.databricks.rpc.InstrumentedQueuedThreadPool$$anon$1.$anonfun$run$2(InstrumentedQueuedThreadPool.scala:110)",
        "\tat scala.runtime.java8.JFunction0$mcV$sp.apply(JFunction0$mcV$sp.java:23)",
        "\tat com.databricks.logging.AttributionContextTracing.$anonfun$withAttributionContext$1(AttributionContextTracing.scala:48)",
        "\tat com.databricks.logging.AttributionContext$.$anonfun$withValue$1(AttributionContext.scala:273)",
        "\tat scala.util.DynamicVariable.withValue(DynamicVariable.scala:62)",
        "\tat com.databricks.logging.AttributionContext$.withValue(AttributionContext.scala:269)",
        "\tat com.databricks.logging.AttributionContextTracing.withAttributionContext(AttributionContextTracing.scala:46)",
        "\tat com.databricks.logging.AttributionContextTracing.withAttributionContext$(AttributionContextTracing.scala:43)",
        "\tat com.databricks.rpc.InstrumentedQueuedThreadPool.withAttributionContext(InstrumentedQueuedThreadPool.scala:45)",
        "\tat com.databricks.rpc.InstrumentedQueuedThreadPool$$anon$1.$anonfun$run$1(InstrumentedQueuedThreadPool.scala:110)",
        "\tat scala.runtime.java8.JFunction0$mcV$sp.apply(JFunction0$mcV$sp.java:23)",
        "\tat com.databricks.instrumentation.QueuedThreadPoolInstrumenter.trackActiveThreads(QueuedThreadPoolInstrumenter.scala:126)",
        "\tat com.databricks.instrumentation.QueuedThreadPoolInstrumenter.trackActiveThreads$(QueuedThreadPoolInstrumenter.scala:123)",
        "\tat com.databricks.rpc.InstrumentedQueuedThreadPool.trackActiveThreads(InstrumentedQueuedThreadPool.scala:45)",
        "\tat com.databricks.rpc.InstrumentedQueuedThreadPool$$anon$1.run(InstrumentedQueuedThreadPool.scala:92)",
        "\tat org.eclipse.jetty.util.thread.QueuedThreadPool.runJob(QueuedThreadPool.java:883)",
        "\tat org.eclipse.jetty.util.thread.QueuedThreadPool$Runner.run(QueuedThreadPool.java:1034)",
        "\tat java.lang.Thread.run(Thread.java:750)"
       ],
       "type": "baseError"
      }
     },
     "output_type": "display_data"
    }
   ],
   "source": [
    "def poll_video_status(video_id):\n",
    "    while True:\n",
    "        response = requests.get(url=f\"{URL_PREFIX}/{video_id}\", headers={\"X-API-Key\": IMENTIV_API_KEY})\n",
    "        if response.json().get('status') == 'completed':\n",
    "            return response.json()\n",
    "        else:\n",
    "            print(\"Still processing. Retrying in 20 seconds.\")\n",
    "            print(response.json())\n",
    "        time.sleep(180)\n",
    "poll_video_status(video_id)"
   ]
  },
  {
   "cell_type": "code",
   "execution_count": 0,
   "metadata": {
    "application/vnd.databricks.v1+cell": {
     "cellMetadata": {
      "byteLimit": 2048000,
      "rowLimit": 10000
     },
     "inputWidgets": {},
     "nuid": "bb91b1d0-be95-440e-8754-61593242f5ee",
     "showTitle": false,
     "tableResultSettingsMap": {},
     "title": ""
    }
   },
   "outputs": [],
   "source": [
    "def fetch_personality_report(video_id, max_retries=30):\n",
    "    # Request personality report\n",
    "    request_url = f\"{URL_PREFIX}/{video_id}/personality/request\"\n",
    "    request_headers = {\"accept\": \"application/json\", \"X-API-Key\": IMENTIV_API_KEY, \"Content-Type\": \"application/x-www-form-urlencoded\"}\n",
    "    request_data = {\"callback_url\": CALLBACK_URL}\n",
    "    response = requests.post(request_url, headers=request_headers, data=request_data)\n",
    "    time.sleep(5)\n",
    "    # Poll for the report status\n",
    "    poll_url = f\"{URL_PREFIX}/{video_id}/personality/\"\n",
    "    poll_headers = {\"accept\": \"application/json\", \"X-API-Key\": IMENTIV_API_KEY}\n",
    "    retries = 0\n",
    "    while retries < max_retries:\n",
    "        response = requests.get(poll_url, headers=poll_headers)\n",
    "        if response.status_code == 200 and response.json().get('status') == 'completed':\n",
    "            return response.json()\n",
    "        retries += 1\n",
    "        time.sleep(20)\n",
    "personality_report = fetch_personality_report(video_id)"
   ]
  },
  {
   "cell_type": "code",
   "execution_count": 0,
   "metadata": {
    "application/vnd.databricks.v1+cell": {
     "cellMetadata": {
      "byteLimit": 2048000,
      "rowLimit": 10000
     },
     "inputWidgets": {},
     "nuid": "a5be2326-ac72-4c88-92b6-bd6d92205702",
     "showTitle": false,
     "tableResultSettingsMap": {},
     "title": ""
    }
   },
   "outputs": [
    {
     "data": {
      "text/plain": [
       "{'id': '2912aee4-12ab-4834-85f8-52cfccb64b33',\n",
       " 'status': 'completed',\n",
       " 'personality_data': {'Extraversion': 0.3702271282672882,\n",
       "  'Neuroticism': 0.392626017332077,\n",
       "  'Agreeableness': 0.45439374446868896,\n",
       "  'Conscientiousness': 0.4191223382949829,\n",
       "  'Openness': 0.45642098784446716}}"
      ]
     },
     "execution_count": 202,
     "metadata": {},
     "output_type": "execute_result"
    }
   ],
   "source": [
    "personality_report"
   ]
  },
  {
   "cell_type": "code",
   "execution_count": 0,
   "metadata": {
    "application/vnd.databricks.v1+cell": {
     "cellMetadata": {
      "byteLimit": 2048000,
      "rowLimit": 10000
     },
     "inputWidgets": {},
     "nuid": "9c945cf6-7403-46ea-ab50-07a7a4620ac3",
     "showTitle": false,
     "tableResultSettingsMap": {},
     "title": ""
    }
   },
   "outputs": [
    {
     "data": {
      "text/plain": [
       "'Report extracted to ../data/2912aee4-12ab-4834-85f8-52cfccb64b33'"
      ]
     },
     "execution_count": 206,
     "metadata": {},
     "output_type": "execute_result"
    }
   ],
   "source": [
    "def fetch_report_file(video_id, max_retries=30):\n",
    "    # Generate report file\n",
    "    generate_url = f\"{URL_PREFIX}/{video_id}/report/\"\n",
    "    headers = {\n",
    "        \"accept\": \"application/json\",\n",
    "        \"X-API-Key\": IMENTIV_API_KEY,\n",
    "        \"Content-Type\": \"application/x-www-form-urlencoded\"\n",
    "    }\n",
    "    data = {\"callback_url\": CALLBACK_URL}\n",
    "    requests.post(generate_url, headers=headers, data=data)\n",
    "\n",
    "    # Poll for the report file\n",
    "    poll_url = f\"{URL_PREFIX}/{video_id}/report/\"\n",
    "    retries = 0\n",
    "    while retries < max_retries:\n",
    "        response = requests.get(poll_url, headers=headers)\n",
    "        if response.status_code == 200 and 'application/zip' in response.headers.get('Content-Type', ''):\n",
    "            # Extract the zip file\n",
    "            with zipfile.ZipFile(io.BytesIO(response.content)) as zip_ref:\n",
    "                zip_ref.extractall(f'../data/{video_id}')\n",
    "            return f\"Report extracted to ../data/{video_id}\"\n",
    "        retries += 1\n",
    "        print(f\"Retries count: {retries}\")\n",
    "        time.sleep(20)\n",
    "    raise Exception(\"Max retries reached. Report file not available.\")\n",
    "fetch_report_file(video_id)"
   ]
  },
  {
   "cell_type": "markdown",
   "metadata": {
    "application/vnd.databricks.v1+cell": {
     "cellMetadata": {},
     "inputWidgets": {},
     "nuid": "f0a82311-e979-4abe-bf23-31af23e6306f",
     "showTitle": false,
     "tableResultSettingsMap": {},
     "title": ""
    }
   },
   "source": [
    "### Test of functionality"
   ]
  },
  {
   "cell_type": "code",
   "execution_count": 0,
   "metadata": {
    "application/vnd.databricks.v1+cell": {
     "cellMetadata": {
      "byteLimit": 2048000,
      "rowLimit": 10000
     },
     "inputWidgets": {},
     "nuid": "09ef9826-4ee4-49ec-b20f-2509da4254f2",
     "showTitle": false,
     "tableResultSettingsMap": {},
     "title": ""
    }
   },
   "outputs": [],
   "source": [
    "def convert_audio_emotions_line_to_dict(video_id:str,line):\n",
    "    # no testing, we yolo\n",
    "    return {\n",
    "        \"video_id\": video_id,\n",
    "        \"Index\": line[0],\n",
    "        \"start_time\": line[1],\n",
    "        \"end_time\": line[2],\n",
    "        \"speaker\": line[3],\n",
    "        \"angry\": line[4],\n",
    "        \"boredom\": line[5],\n",
    "        \"disgust\": line[6],\n",
    "        \"fear\": line[7],\n",
    "        \"happy\": line[8],\n",
    "        \"neutral\": line[9],\n",
    "        \"sad\": line[10],\n",
    "        \"surprise\": line[11]\n",
    "    }"
   ]
  },
  {
   "cell_type": "code",
   "execution_count": 0,
   "metadata": {
    "application/vnd.databricks.v1+cell": {
     "cellMetadata": {
      "byteLimit": 2048000,
      "rowLimit": 10000
     },
     "inputWidgets": {},
     "nuid": "87b9f3ef-2274-4017-bdb8-808b569cfc8c",
     "showTitle": false,
     "tableResultSettingsMap": {},
     "title": ""
    }
   },
   "outputs": [],
   "source": [
    "def convert_video_emotions_line_to_dict(video_id:str,line):\n",
    "    # no testing, we yolo\n",
    "    return {\n",
    "        \"video_id\": video_id,\n",
    "        \"video_time\": line[0],\n",
    "        \"face_id\": line[1],\n",
    "        \"face_name\": line[2],\n",
    "        \"frame_index\": line[3],\n",
    "        \"angry\": line[4],\n",
    "        \"contempt\": line[5],\n",
    "        \"disgust\": line[6],\n",
    "        \"fear\": line[7],\n",
    "        \"happy\": line[8],\n",
    "        \"neutral\": line[9],\n",
    "        \"sad\": line[10],\n",
    "        \"surprise\": line[11],\n",
    "        \"dominant_emotion\": line[12],\n",
    "        \"arousal\": line[13],\n",
    "        \"valence\": line[14],\n",
    "        \"intensity\": line[15]\n",
    "    }"
   ]
  },
  {
   "cell_type": "code",
   "execution_count": 0,
   "metadata": {
    "application/vnd.databricks.v1+cell": {
     "cellMetadata": {
      "byteLimit": 2048000,
      "rowLimit": 10000
     },
     "inputWidgets": {},
     "nuid": "499bf21d-686e-4be7-9203-7881d9424e48",
     "showTitle": false,
     "tableResultSettingsMap": {},
     "title": ""
    }
   },
   "outputs": [
    {
     "name": "stdout",
     "output_type": "stream",
     "text": [
      "Retries count: 1\n"
     ]
    },
    {
     "data": {
      "text/plain": [
       "\u001b[0;31m---------------------------------------------------------------------------\u001b[0m\n",
       "\u001b[0;31mAPIError\u001b[0m                                  Traceback (most recent call last)\n",
       "File \u001b[0;32m<command-7155111069989045>, line 78\u001b[0m\n",
       "\u001b[1;32m     75\u001b[0m         time\u001b[38;5;241m.\u001b[39msleep(\u001b[38;5;241m180\u001b[39m)\n",
       "\u001b[1;32m     76\u001b[0m     \u001b[38;5;28;01mraise\u001b[39;00m \u001b[38;5;167;01mException\u001b[39;00m(\u001b[38;5;124m\"\u001b[39m\u001b[38;5;124mMax retries reached. Report file not available.\u001b[39m\u001b[38;5;124m\"\u001b[39m)\n",
       "\u001b[0;32m---> 78\u001b[0m fetch_report_file(video_id)\n",
       "\n",
       "File \u001b[0;32m<command-7155111069989045>, line 70\u001b[0m, in \u001b[0;36mfetch_report_file\u001b[0;34m(video_id, max_retries)\u001b[0m\n",
       "\u001b[1;32m     59\u001b[0m                 video_rows_to_insert\u001b[38;5;241m.\u001b[39mappend({\n",
       "\u001b[1;32m     60\u001b[0m                     \u001b[38;5;124m\"\u001b[39m\u001b[38;5;124mvideo_id\u001b[39m\u001b[38;5;124m\"\u001b[39m: video_id,\n",
       "\u001b[1;32m     61\u001b[0m                     \u001b[38;5;124m\"\u001b[39m\u001b[38;5;124mIndex\u001b[39m\u001b[38;5;124m\"\u001b[39m: line[\u001b[38;5;241m0\u001b[39m],\n",
       "\u001b[0;32m   (...)\u001b[0m\n",
       "\u001b[1;32m     67\u001b[0m                     \u001b[38;5;124m\"\u001b[39m\u001b[38;5;124mmetric_3\u001b[39m\u001b[38;5;124m\"\u001b[39m: line[\u001b[38;5;241m6\u001b[39m]   \u001b[38;5;66;03m# Replace with actual column names\u001b[39;00m\n",
       "\u001b[1;32m     68\u001b[0m                 })\n",
       "\u001b[1;32m     69\u001b[0m             \u001b[38;5;66;03m# Insert video analysis into Supabase\u001b[39;00m\n",
       "\u001b[0;32m---> 70\u001b[0m             \u001b[43msupabase\u001b[49m\u001b[38;5;241;43m.\u001b[39;49m\u001b[43mtable\u001b[49m\u001b[43m(\u001b[49m\u001b[38;5;124;43m\"\u001b[39;49m\u001b[38;5;124;43mvideo_emotions\u001b[39;49m\u001b[38;5;124;43m\"\u001b[39;49m\u001b[43m)\u001b[49m\u001b[38;5;241;43m.\u001b[39;49m\u001b[43minsert\u001b[49m\u001b[43m(\u001b[49m\u001b[43mvideo_rows_to_insert\u001b[49m\u001b[43m)\u001b[49m\u001b[38;5;241;43m.\u001b[39;49m\u001b[43mexecute\u001b[49m\u001b[43m(\u001b[49m\u001b[43m)\u001b[49m\n",
       "\u001b[1;32m     72\u001b[0m         \u001b[38;5;28;01mreturn\u001b[39;00m \u001b[38;5;124m\"\u001b[39m\u001b[38;5;124mAll CSV files processed and inserted into Supabase.\u001b[39m\u001b[38;5;124m\"\u001b[39m\n",
       "\u001b[1;32m     73\u001b[0m retries \u001b[38;5;241m+\u001b[39m\u001b[38;5;241m=\u001b[39m \u001b[38;5;241m1\u001b[39m\n",
       "\n",
       "File \u001b[0;32m/local_disk0/.ephemeral_nfs/envs/pythonEnv-d34b62ec-7a65-4455-a902-9fede1912ed3/lib/python3.10/site-packages/postgrest/_sync/request_builder.py:78\u001b[0m, in \u001b[0;36mSyncQueryRequestBuilder.execute\u001b[0;34m(self)\u001b[0m\n",
       "\u001b[1;32m     76\u001b[0m         \u001b[38;5;28;01mreturn\u001b[39;00m APIResponse[_ReturnT]\u001b[38;5;241m.\u001b[39mfrom_http_request_response(r)\n",
       "\u001b[1;32m     77\u001b[0m     \u001b[38;5;28;01melse\u001b[39;00m:\n",
       "\u001b[0;32m---> 78\u001b[0m         \u001b[38;5;28;01mraise\u001b[39;00m APIError(r\u001b[38;5;241m.\u001b[39mjson())\n",
       "\u001b[1;32m     79\u001b[0m \u001b[38;5;28;01mexcept\u001b[39;00m ValidationError \u001b[38;5;28;01mas\u001b[39;00m e:\n",
       "\u001b[1;32m     80\u001b[0m     \u001b[38;5;28;01mraise\u001b[39;00m APIError(r\u001b[38;5;241m.\u001b[39mjson()) \u001b[38;5;28;01mfrom\u001b[39;00m \u001b[38;5;21;01me\u001b[39;00m\n",
       "\n",
       "\u001b[0;31mAPIError\u001b[0m: {'code': 'PGRST204', 'details': None, 'hint': None, 'message': \"Could not find the 'Index' column of 'video_emotions' in the schema cache\"}"
      ]
     },
     "metadata": {
      "application/vnd.databricks.v1+output": {
       "addedWidgets": {},
       "arguments": {},
       "datasetInfos": [],
       "jupyterProps": {
        "ename": "APIError",
        "evalue": "{'code': 'PGRST204', 'details': None, 'hint': None, 'message': \"Could not find the 'Index' column of 'video_emotions' in the schema cache\"}"
       },
       "metadata": {
        "errorSummary": "<span class='ansi-red-fg'>APIError</span>: {'code': 'PGRST204', 'details': None, 'hint': None, 'message': \"Could not find the 'Index' column of 'video_emotions' in the schema cache\"}"
       },
       "removedWidgets": [],
       "sqlProps": null,
       "stackFrames": [
        "\u001b[0;31m---------------------------------------------------------------------------\u001b[0m",
        "\u001b[0;31mAPIError\u001b[0m                                  Traceback (most recent call last)",
        "File \u001b[0;32m<command-7155111069989045>, line 78\u001b[0m\n\u001b[1;32m     75\u001b[0m         time\u001b[38;5;241m.\u001b[39msleep(\u001b[38;5;241m180\u001b[39m)\n\u001b[1;32m     76\u001b[0m     \u001b[38;5;28;01mraise\u001b[39;00m \u001b[38;5;167;01mException\u001b[39;00m(\u001b[38;5;124m\"\u001b[39m\u001b[38;5;124mMax retries reached. Report file not available.\u001b[39m\u001b[38;5;124m\"\u001b[39m)\n\u001b[0;32m---> 78\u001b[0m fetch_report_file(video_id)\n",
        "File \u001b[0;32m<command-7155111069989045>, line 70\u001b[0m, in \u001b[0;36mfetch_report_file\u001b[0;34m(video_id, max_retries)\u001b[0m\n\u001b[1;32m     59\u001b[0m                 video_rows_to_insert\u001b[38;5;241m.\u001b[39mappend({\n\u001b[1;32m     60\u001b[0m                     \u001b[38;5;124m\"\u001b[39m\u001b[38;5;124mvideo_id\u001b[39m\u001b[38;5;124m\"\u001b[39m: video_id,\n\u001b[1;32m     61\u001b[0m                     \u001b[38;5;124m\"\u001b[39m\u001b[38;5;124mIndex\u001b[39m\u001b[38;5;124m\"\u001b[39m: line[\u001b[38;5;241m0\u001b[39m],\n\u001b[0;32m   (...)\u001b[0m\n\u001b[1;32m     67\u001b[0m                     \u001b[38;5;124m\"\u001b[39m\u001b[38;5;124mmetric_3\u001b[39m\u001b[38;5;124m\"\u001b[39m: line[\u001b[38;5;241m6\u001b[39m]   \u001b[38;5;66;03m# Replace with actual column names\u001b[39;00m\n\u001b[1;32m     68\u001b[0m                 })\n\u001b[1;32m     69\u001b[0m             \u001b[38;5;66;03m# Insert video analysis into Supabase\u001b[39;00m\n\u001b[0;32m---> 70\u001b[0m             \u001b[43msupabase\u001b[49m\u001b[38;5;241;43m.\u001b[39;49m\u001b[43mtable\u001b[49m\u001b[43m(\u001b[49m\u001b[38;5;124;43m\"\u001b[39;49m\u001b[38;5;124;43mvideo_emotions\u001b[39;49m\u001b[38;5;124;43m\"\u001b[39;49m\u001b[43m)\u001b[49m\u001b[38;5;241;43m.\u001b[39;49m\u001b[43minsert\u001b[49m\u001b[43m(\u001b[49m\u001b[43mvideo_rows_to_insert\u001b[49m\u001b[43m)\u001b[49m\u001b[38;5;241;43m.\u001b[39;49m\u001b[43mexecute\u001b[49m\u001b[43m(\u001b[49m\u001b[43m)\u001b[49m\n\u001b[1;32m     72\u001b[0m         \u001b[38;5;28;01mreturn\u001b[39;00m \u001b[38;5;124m\"\u001b[39m\u001b[38;5;124mAll CSV files processed and inserted into Supabase.\u001b[39m\u001b[38;5;124m\"\u001b[39m\n\u001b[1;32m     73\u001b[0m retries \u001b[38;5;241m+\u001b[39m\u001b[38;5;241m=\u001b[39m \u001b[38;5;241m1\u001b[39m\n",
        "File \u001b[0;32m/local_disk0/.ephemeral_nfs/envs/pythonEnv-d34b62ec-7a65-4455-a902-9fede1912ed3/lib/python3.10/site-packages/postgrest/_sync/request_builder.py:78\u001b[0m, in \u001b[0;36mSyncQueryRequestBuilder.execute\u001b[0;34m(self)\u001b[0m\n\u001b[1;32m     76\u001b[0m         \u001b[38;5;28;01mreturn\u001b[39;00m APIResponse[_ReturnT]\u001b[38;5;241m.\u001b[39mfrom_http_request_response(r)\n\u001b[1;32m     77\u001b[0m     \u001b[38;5;28;01melse\u001b[39;00m:\n\u001b[0;32m---> 78\u001b[0m         \u001b[38;5;28;01mraise\u001b[39;00m APIError(r\u001b[38;5;241m.\u001b[39mjson())\n\u001b[1;32m     79\u001b[0m \u001b[38;5;28;01mexcept\u001b[39;00m ValidationError \u001b[38;5;28;01mas\u001b[39;00m e:\n\u001b[1;32m     80\u001b[0m     \u001b[38;5;28;01mraise\u001b[39;00m APIError(r\u001b[38;5;241m.\u001b[39mjson()) \u001b[38;5;28;01mfrom\u001b[39;00m \u001b[38;5;21;01me\u001b[39;00m\n",
        "\u001b[0;31mAPIError\u001b[0m: {'code': 'PGRST204', 'details': None, 'hint': None, 'message': \"Could not find the 'Index' column of 'video_emotions' in the schema cache\"}"
       ],
       "type": "baseError"
      }
     },
     "output_type": "display_data"
    }
   ],
   "source": [
    "def fetch_report_file(video_id, max_retries=30):\n",
    "    # Generate report file\n",
    "    generate_url = f\"{URL_PREFIX}/{video_id}/report/\"\n",
    "    headers = {\n",
    "        \"accept\": \"application/json\",\n",
    "        \"X-API-Key\": IMENTIV_API_KEY,\n",
    "        \"Content-Type\": \"application/x-www-form-urlencoded\"\n",
    "    }\n",
    "    data = {\"callback_url\": CALLBACK_URL}\n",
    "    requests.post(generate_url, headers=headers, data=data)\n",
    "\n",
    "    # Poll for the report file\n",
    "    poll_url = f\"{URL_PREFIX}/{video_id}/report/\"\n",
    "    retries = 0\n",
    "    while retries < max_retries:\n",
    "        response = requests.get(poll_url, headers=headers)\n",
    "        if response.status_code == 200 and 'application/zip' in response.headers.get('Content-Type', ''):\n",
    "            # Read the ZIP file in memory\n",
    "            with zipfile.ZipFile(io.BytesIO(response.content)) as zip_ref:\n",
    "                # Process audio_emotions CSV\n",
    "                audio_csv_name = f\"audio_emotions_{video_id}.csv\"\n",
    "                with zip_ref.open(audio_csv_name) as audio_csv_file:\n",
    "                    audio_reader = csv.reader(io.TextIOWrapper(audio_csv_file))\n",
    "                    next(audio_reader)  # Skip the header row\n",
    "                    audio_rows_to_insert = []\n",
    "                    for line in audio_reader:\n",
    "                        audio_rows_to_insert.append({\n",
    "                            \"video_id\": video_id,\n",
    "                            \"Index\": line[0],\n",
    "                            \"start_time\": line[1],\n",
    "                            \"end_time\": line[2],\n",
    "                            \"speaker\": line[3],\n",
    "                            \"angry\": line[4],\n",
    "                            \"boredom\": line[5],\n",
    "                            \"disgust\": line[6],\n",
    "                            \"fear\": line[7],\n",
    "                            \"happy\": line[8],\n",
    "                            \"neutral\": line[9],\n",
    "                            \"sad\": line[10],\n",
    "                            \"surprise\": line[11]\n",
    "                        })\n",
    "                    # Insert audio emotions into Supabase\n",
    "                    supabase.table(\"audio_emotions\").insert(audio_rows_to_insert).execute()\n",
    "\n",
    "                # Process video_analysis CSV\n",
    "                video_csv_name = f\"video_{video_id}_analysis.csv\"\n",
    "                with zip_ref.open(video_csv_name) as video_csv_file:\n",
    "                    video_reader = csv.reader(io.TextIOWrapper(video_csv_file))\n",
    "                    next(video_reader)  # Skip the header row\n",
    "                    video_rows_to_insert = []\n",
    "                    for line in video_reader:\n",
    "                        video_rows_to_insert.append({\n",
    "                            \"video_id\": video_id,\n",
    "                            \"video_time\": line[0],\n",
    "                            \"face_id\": line[1],\n",
    "                            \"face_name\": line[2],\n",
    "                            \"frame_index\": line[3],\n",
    "                            \"angry\": line[4],\n",
    "                            \"contempt\": line[5],\n",
    "                            \"disgust\": line[6],\n",
    "                            \"fear\": line[7],\n",
    "                            \"happy\": line[8],\n",
    "                            \"neutral\": line[9],\n",
    "                            \"sad\": line[10],\n",
    "                            \"surprise\": line[11],\n",
    "                            \"dominant_emotion\": line[12],\n",
    "                            \"arousal\": line[13],\n",
    "                            \"valence\": line[14],\n",
    "                            \"intensity\": line[15]\n",
    "                        })\n",
    "                    # Insert video analysis into Supabase\n",
    "                    supabase.table(\"video_emotions\").insert(video_rows_to_insert).execute()\n",
    "\n",
    "                return \"All CSV files processed and inserted into Supabase.\"\n",
    "        retries += 1\n",
    "        print(f\"Retries count: {retries}\")\n",
    "        time.sleep(180)\n",
    "    raise Exception(\"Max retries reached. Report file not available.\")\n",
    "\n",
    "fetch_report_file(video_id)"
   ]
  }
 ],
 "metadata": {
  "application/vnd.databricks.v1+notebook": {
   "computePreferences": null,
   "dashboards": [],
   "environmentMetadata": null,
   "language": "python",
   "notebookMetadata": {
    "pythonIndentUnit": 4
   },
   "notebookName": "testing",
   "widgets": {}
  },
  "kernelspec": {
   "display_name": "base",
   "language": "python",
   "name": "python3"
  },
  "language_info": {
   "name": "python",
   "version": "3.12.2"
  }
 },
 "nbformat": 4,
 "nbformat_minor": 0
}
